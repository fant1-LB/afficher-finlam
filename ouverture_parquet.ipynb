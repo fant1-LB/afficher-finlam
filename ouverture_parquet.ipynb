{
 "cells": [
  {
   "cell_type": "code",
   "execution_count": 1,
   "id": "9cd3b18b",
   "metadata": {},
   "outputs": [],
   "source": [
    "import numpy as np\n",
    "import pyarrow.parquet as pq\n",
    "import cv2"
   ]
  },
  {
   "cell_type": "code",
   "execution_count": 2,
   "id": "4516563f",
   "metadata": {},
   "outputs": [],
   "source": [
    "#Cellule destinée à extraire les images du fichier parquet\n",
    "\n",
    "index = 0\n",
    "table = pq.read_table('test-00000-of-00001.parquet') #changer le nom du fichier selon les besoins\n",
    "for img in table['page_image']:\n",
    "    b = img['bytes'].as_py()\n",
    "    with open(f'{index}.png', 'wb') as f:\n",
    "        f.write(b)\n",
    "        index+=1\n"
   ]
  },
  {
   "cell_type": "code",
   "execution_count": 3,
   "id": "1c34ba9b",
   "metadata": {},
   "outputs": [],
   "source": [
    "#Cellule destinée à extraire les BBs du fichier parquet\n",
    "\n",
    "index=0\n",
    "for arr in table['zone_polygons']:\n",
    "    txt=arr.as_py()\n",
    "    with open(f'{index}.txt', 'w') as f:\n",
    "        f.write(str(txt))\n",
    "        index+=1"
   ]
  },
  {
   "cell_type": "code",
   "execution_count": 4,
   "id": "e377c59b",
   "metadata": {},
   "outputs": [],
   "source": [
    "#Cellule destinée à extraire les classes des BBs du fichier parquet\n",
    "\n",
    "index=0\n",
    "\n",
    "for i in table['zone_classes']:\n",
    "    text= i.as_py()\n",
    "    with open(f'classes{index}.txt','w') as f:\n",
    "        for z in text:\n",
    "            f.write(str(z))\n",
    "        index+=1"
   ]
  },
  {
   "cell_type": "code",
   "execution_count": 5,
   "id": "5d0c248e",
   "metadata": {},
   "outputs": [],
   "source": [
    "def remove_char_at_position(s, pos):\n",
    "    if pos < 0 or pos >= len(s):\n",
    "        return s\n",
    "    return s[:pos] + s[pos+1:]\n",
    "\n",
    "def from_text_to_list(nombre):\n",
    "    with open (f\"{nombre}.txt\",'r') as f:\n",
    "        string= f.read().replace(\"\\n\", \"\")\n",
    "        string= remove_char_at_position(string, 0)\n",
    "        string= remove_char_at_position(string, 0)\n",
    "        liste= string.split('], [')\n",
    "    return liste\n",
    "\n",
    "\n",
    "\n"
   ]
  },
  {
   "cell_type": "code",
   "execution_count": 6,
   "id": "56c90297",
   "metadata": {},
   "outputs": [],
   "source": [
    "def appliquer_coord(liste, nombre, liste_couleurs):\n",
    "    liste2=[]\n",
    "    for i in range(0, len(liste)):\n",
    "        valeur= liste[i]\n",
    "        valeur2 = valeur.replace('[','').replace(']','')\n",
    "        liste2.append(valeur2)\n",
    "    for i in range(len(liste2)-1, 3, -1):\n",
    "            if (i - 4) % 5 == 0:\n",
    "                del liste2[i]\n",
    "    im= cv2.imread(f'{nombre}.png')\n",
    "    f = open(f'classes{nombre}.txt', 'r')\n",
    "    contenu = str(f.read())\n",
    "    height, width = im.shape[:2]\n",
    "    thickness = 5\n",
    "    setlist=[]\n",
    "    \n",
    "    for z in range(1, len(liste2), 2):\n",
    "        \n",
    "       \n",
    "        \n",
    "        listes_coord= str(liste2[z]).split(',')\n",
    "        hauteur = round(float((listes_coord[1]))*height/100)\n",
    "        largeur = round((float(listes_coord[0]))*width/100)\n",
    "        set_coord = (largeur, hauteur)\n",
    "        setlist.append(set_coord)\n",
    "    index =0    \n",
    "    for i in range(0, len(setlist), 2):\n",
    "        try :\n",
    "            couleur = liste_couleurs[int(contenu[index])]\n",
    "        except:\n",
    "            couleur = liste_couleurs[0]\n",
    "        im=cv2.rectangle(im, setlist[i+1],setlist[i], color=couleur, thickness=thickness)\n",
    "        index+=1\n",
    "    cv2.imwrite(f\"{nombre}v2.png\", im)\n",
    "    \n",
    "    "
   ]
  },
  {
   "cell_type": "code",
   "execution_count": 7,
   "id": "dfef0368",
   "metadata": {},
   "outputs": [],
   "source": [
    "def from_text_to_annotated_image (nombre, liste_couleurs):\n",
    "    liste = from_text_to_list(nombre)\n",
    "    appliquer_coord(liste, nombre, liste_couleurs)\n",
    "   \n",
    "    return \"Terminé\""
   ]
  },
  {
   "cell_type": "code",
   "execution_count": 8,
   "id": "ce83df4c",
   "metadata": {},
   "outputs": [],
   "source": [
    "liste_couleurs = [(0,0,0), (0,225,0), (225,0,0), (0,0,225), (120, 120, 0), (10, 50,120),(60,120,10), (0,225, 120), (120,225,0), (225,225,225)] #la liste de couleurs peut être modifié selon vos besoins\n",
    "for i in range (0,48): #remplacer le deuxième nombre par le nombre d'images +1\n",
    "    from_text_to_annotated_image(i, liste_couleurs)"
   ]
  }
 ],
 "metadata": {
  "kernelspec": {
   "display_name": "labelstudio",
   "language": "python",
   "name": "python3"
  },
  "language_info": {
   "codemirror_mode": {
    "name": "ipython",
    "version": 3
   },
   "file_extension": ".py",
   "mimetype": "text/x-python",
   "name": "python",
   "nbconvert_exporter": "python",
   "pygments_lexer": "ipython3",
   "version": "3.12.9"
  }
 },
 "nbformat": 4,
 "nbformat_minor": 5
}
